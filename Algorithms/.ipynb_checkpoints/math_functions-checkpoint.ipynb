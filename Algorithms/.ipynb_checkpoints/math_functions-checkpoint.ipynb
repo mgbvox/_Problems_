{
 "cells": [
  {
   "cell_type": "code",
   "execution_count": 56,
   "metadata": {},
   "outputs": [
    {
     "name": "stdout",
     "output_type": "stream",
     "text": [
      "Populating the interactive namespace from numpy and matplotlib\n"
     ]
    }
   ],
   "source": [
    "%pylab inline"
   ]
  },
  {
   "cell_type": "markdown",
   "metadata": {},
   "source": [
    "# Math Functions\n",
    "Various libraries (numpy, scikit, numba, pandas, dask) exist to facilitate numerical computation; these libraries are highly optimized and typically run on a C++ or C backbone (C is a very fast, though difficult to use, programming language - Python itself is actually built on top of C). \n",
    "\n",
    "While we will use numpy and pandas **extensively** in the future, it's good practice to first code some useful numeric functions in pure python."
   ]
  },
  {
   "cell_type": "markdown",
   "metadata": {},
   "source": [
    "## Divisors and Primes\n",
    "Prime numbers are a common fascination among computer scientists and mathematicians alike. A prime is defined as a number that is only divisible by 1 and itself. Some examples: 5, 7, 11. It's relatively easy to brute-force check a number for primacy - let's do that here.\n",
    "\n",
    "First, you'll need a way to check for divisors:"
   ]
  },
  {
   "cell_type": "code",
   "execution_count": 40,
   "metadata": {},
   "outputs": [],
   "source": [
    "def divisors(n):\n",
    "    result = []\n",
    "    for i in range(1,n):\n",
    "        if n%i==0:\n",
    "            result.append(i)\n",
    "    return result"
   ]
  },
  {
   "cell_type": "markdown",
   "metadata": {},
   "source": [
    "Using the function above, write a function **is_prime(n)** that returns True if n is prime and False if not:"
   ]
  },
  {
   "cell_type": "code",
   "execution_count": 41,
   "metadata": {},
   "outputs": [],
   "source": [
    "def is_prime(n):\n",
    "    '''\n",
    "    Your code here:\n",
    "    '''\n",
    "    pass\n",
    "\n",
    "'''\n",
    "Bonus problem: \n",
    "Change your code above so that it no longer needs to use divisors(x).\n",
    "HINT: use the modulo (%) operator.\n",
    "'''"
   ]
  },
  {
   "cell_type": "markdown",
   "metadata": {},
   "source": [
    "## Prime Factors\n",
    "While it's relatively easy to check whether a number is prime, it's notoriously difficult to find a number's prime factors (the prime numbers that, when multiplied together, give the original number). Look up [Numberphile's video](https://www.youtube.com/watch?v=M7kEpw1tn50) on cryptography for an excellent overview of why this is the case (Computerphile, the cousin channel for computer science, also has some great videos on this topic). \n",
    "\n",
    "Luckily, the problem is still solveable for small numbers. Write a function below that gives the prime factors of an input n:"
   ]
  },
  {
   "cell_type": "code",
   "execution_count": 75,
   "metadata": {},
   "outputs": [],
   "source": [
    "to_solve = [735, 15925, 98, 27885, 182, 9438, 700, 675, 2730, 1859]"
   ]
  },
  {
   "cell_type": "code",
   "execution_count": 117,
   "metadata": {},
   "outputs": [],
   "source": [
    "def prime_factors(n):\n",
    "    '''\n",
    "    Your code here:\n",
    "    '''\n",
    "    pass"
   ]
  },
  {
   "cell_type": "markdown",
   "metadata": {},
   "source": [
    "## Factorial\n",
    "N! ('N-Factorial') is equivalent to N\\*(N-1)\\*(N-2)\\*...\\*2\\*1. To give a concrete example, 5! equals 5\\*4\\*3\\*2\\*1 equals 120. Write a function that gives the factorial of N:"
   ]
  },
  {
   "cell_type": "code",
   "execution_count": 94,
   "metadata": {},
   "outputs": [],
   "source": [
    "def factorial(n):\n",
    "    '''\n",
    "    Your code here:\n",
    "    '''\n",
    "    pass"
   ]
  },
  {
   "cell_type": "markdown",
   "metadata": {},
   "source": [
    "## Bonus: Recursion\n",
    "'Recursion' is what happens when a function accomplishes a task by breaking its inputs into smaller subproblems, and then passes them back into itself. For example, here is a recursive function for summing all the numbers from 0 to n:"
   ]
  },
  {
   "cell_type": "code",
   "execution_count": 37,
   "metadata": {},
   "outputs": [
    {
     "data": {
      "text/plain": [
       "55"
      ]
     },
     "execution_count": 37,
     "metadata": {},
     "output_type": "execute_result"
    }
   ],
   "source": [
    "def recursive_sum(n):\n",
    "    if n == 0:\n",
    "        return n\n",
    "    else:\n",
    "        return n+recursive_sum(n-1)\n",
    "    \n",
    "recursive_sum(10)"
   ]
  },
  {
   "cell_type": "markdown",
   "metadata": {},
   "source": [
    "You can further inspect what's going on here by modifying the function to print the value of N as the function progresses (see below) - there's really a lot going on under the hood. The key thing to note is the following:\n",
    "<ol>\n",
    "    <li>The function's <strong>base case</strong> is when N == 0. Only then does it start returning a value.</li>\n",
    "    <li>The function's recursive calls into itself are made with arguments that get progressively closer to the base case - in this case, every time we call the function, we call it with n-1 (NOT n).</li>\n",
    "</ol>\n",
    "\n",
    "We can go more in-depth in future lessons."
   ]
  },
  {
   "cell_type": "code",
   "execution_count": 39,
   "metadata": {},
   "outputs": [
    {
     "name": "stdout",
     "output_type": "stream",
     "text": [
      "N value is 10 at depth 0.\n",
      "N value is 9 at depth 1.\n",
      "N value is 8 at depth 2.\n",
      "N value is 7 at depth 3.\n",
      "N value is 6 at depth 4.\n",
      "N value is 5 at depth 5.\n",
      "N value is 4 at depth 6.\n",
      "N value is 3 at depth 7.\n",
      "N value is 2 at depth 8.\n",
      "N value is 1 at depth 9.\n",
      "N value is 0 at depth 10.\n",
      "Hit bottom (N==0); Returning.\n",
      "1+0\n",
      "2+1+0\n",
      "3+2+1+0\n",
      "4+3+2+1+0\n",
      "5+4+3+2+1+0\n",
      "6+5+4+3+2+1+0\n",
      "7+6+5+4+3+2+1+0\n",
      "8+7+6+5+4+3+2+1+0\n",
      "9+8+7+6+5+4+3+2+1+0\n",
      "10+9+8+7+6+5+4+3+2+1+0\n"
     ]
    },
    {
     "data": {
      "text/plain": [
       "'10+9+8+7+6+5+4+3+2+1+0'"
      ]
     },
     "execution_count": 39,
     "metadata": {},
     "output_type": "execute_result"
    }
   ],
   "source": [
    "def recursive_sum_log(n, depth=0):\n",
    "    print(f'N value is {n} at depth {depth}.')\n",
    "    if n == 0:\n",
    "        print(f'Hit bottom (N=={n}); Returning.')\n",
    "        return str(n)\n",
    "    else:\n",
    "        s = f'{n}+{recursive_sum_log(n-1, depth+1)}'\n",
    "        print(s)\n",
    "        return s\n",
    "    \n",
    "recursive_sum_log(10)"
   ]
  },
  {
   "cell_type": "markdown",
   "metadata": {},
   "source": [
    "### Your Bonus Question:\n",
    "Re-write your Factorial function to make it recursive.\n",
    "\n",
    "For extra credit, re-write the prime_factors function to make it recursive as well."
   ]
  }
 ],
 "metadata": {
  "kernelspec": {
   "display_name": "data_science",
   "language": "python",
   "name": "data_science"
  },
  "language_info": {
   "codemirror_mode": {
    "name": "ipython",
    "version": 3
   },
   "file_extension": ".py",
   "mimetype": "text/x-python",
   "name": "python",
   "nbconvert_exporter": "python",
   "pygments_lexer": "ipython3",
   "version": "3.6.7"
  }
 },
 "nbformat": 4,
 "nbformat_minor": 4
}
