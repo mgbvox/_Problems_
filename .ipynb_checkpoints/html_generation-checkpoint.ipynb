{
 "cells": [
  {
   "cell_type": "code",
   "execution_count": 5,
   "metadata": {},
   "outputs": [
    {
     "name": "stdout",
     "output_type": "stream",
     "text": [
      "Populating the interactive namespace from numpy and matplotlib\n"
     ]
    }
   ],
   "source": [
    "%pylab inline\n",
    "import os\n",
    "import shutil"
   ]
  },
  {
   "cell_type": "markdown",
   "metadata": {},
   "source": [
    "# Generating HTML Documents\n",
    "HTML (\"Hypertext Markup Language\") is one part of the three base languages on which webpages run (the others are CSS and Javascript). HTML tells the webpage what to display, and where to display it. CSS and Javascript handle the look and interactivity of the page, respectively. </br>\n",
    "\n",
    "It's common to need to be able to dynamically generate HTML pages. Python's built-in string manipulation functionality gives us everything we need to do this! Below is a simple exampe - run the below cell, then (in your finder/) load the "
   ]
  },
  {
   "cell_type": "code",
   "execution_count": 7,
   "metadata": {},
   "outputs": [],
   "source": [
    "#This deletes and resets the output directory - we'll discuss these libraries later.\n",
    "#They are very useful.\n",
    "shutil.rmtree('./html_output') #Delete old directory.\n",
    "os.mkdir('./html_output') #Make new directory.\n",
    "\n",
    "#List of names:\n",
    "names = ['Harry', 'Jin', 'Anastasia', 'Taika', 'Janelle']\n",
    "\n",
    "#Make the documents!\n",
    "for name in names:\n",
    "    with open(f'./html_output/{name}_hello.html', 'w+') as f:\n",
    "        s = f\"<h1>{name}'s HTML Page</h1><p>{name} says hello!</p>\"\n",
    "        f.write(s)"
   ]
  },
  {
   "cell_type": "code",
   "execution_count": 9,
   "metadata": {},
   "outputs": [
    {
     "data": {
      "text/plain": [
       "\"Let's break down what's going on above.\\n<h1> is the HEADER ONE tag. A tag in HTML is a signal to your browser, which tells it to render \\ntext a certain way. HEADER ONE tags render text large, i.e. for titles, etc. Most tags end with\\na closing tag - the closing tag for <h1> is </h1>. Always close your tags!\\n\\n<p> is the paragraph tag - this is used to display blocks of text.\\n\\nHere's a header tag:\\n\""
      ]
     },
     "execution_count": 9,
     "metadata": {},
     "output_type": "execute_result"
    }
   ],
   "source": [
    "'''Let's break down what's going on above.\n",
    "<h1> is the HEADER ONE tag. A tag in HTML is a signal to your browser, which tells it to render \n",
    "text a certain way. HEADER ONE tags render text large, i.e. for titles, etc. Most tags end with\n",
    "a closing tag - the closing tag for <h1> is </h1>. Always close your tags!\n",
    "\n",
    "<p> is the paragraph tag - this is used to display blocks of text.\n",
    "\n",
    "Here's a header tag:\n",
    "'''"
   ]
  },
  {
   "cell_type": "markdown",
   "metadata": {},
   "source": [
    "<h1>Hello</h1>"
   ]
  },
  {
   "cell_type": "code",
   "execution_count": null,
   "metadata": {},
   "outputs": [],
   "source": [
    "'''\n",
    "And here's a paragraph tag:\n",
    "'''"
   ]
  },
  {
   "cell_type": "markdown",
   "metadata": {},
   "source": [
    "<p>This is a paragraph!</p>"
   ]
  },
  {
   "cell_type": "markdown",
   "metadata": {},
   "source": [
    "### Your turn!"
   ]
  },
  {
   "cell_type": "code",
   "execution_count": null,
   "metadata": {},
   "outputs": [],
   "source": [
    "'''\n",
    "Edit the code below to take in your name and contact information, \n",
    "and generate a rudimentary contact webpage.\n",
    "\n",
    "NOTE: Your name should be in a HEADER ONE tag, and your contact info\n",
    "should be in a paragraph tag. Use the input() function to collect the info.\n",
    "Use f-strings (or normal string concatenation) to insert the text into the \n",
    "document. I used f-strings above.\n",
    "'''\n",
    "\n",
    "name = #CODE HERE\n",
    "address = #CODE HERE\n",
    "phone_number = #CODE HERE\n",
    "fun_fact_about_me = #CODE HERE\n",
    "\n",
    "### HTML-generation code here! ###"
   ]
  },
  {
   "cell_type": "markdown",
   "metadata": {},
   "source": [
    "## Extra-Fun Stuff\n",
    "The [W3 Organization](https://www.w3schools.com/html/) manages HTML and web design standards. The link will take you to their crash course on HTML. Once you get the hang of the above problem, read through the stuff on the W3 HTML page and experiment - see if you can figure out how to 1) use the LIST ITEM tag to itemize your contact page, and 2) insert an image - any image - into the html document with the IMAGE tag.\n",
    "\n",
    "### Extra Extra Credit:\n",
    "Use the HREF tag to link to your favorite website."
   ]
  }
 ],
 "metadata": {
  "kernelspec": {
   "display_name": "data_science",
   "language": "python",
   "name": "data_science"
  },
  "language_info": {
   "codemirror_mode": {
    "name": "ipython",
    "version": 3
   },
   "file_extension": ".py",
   "mimetype": "text/x-python",
   "name": "python",
   "nbconvert_exporter": "python",
   "pygments_lexer": "ipython3",
   "version": "3.6.7"
  }
 },
 "nbformat": 4,
 "nbformat_minor": 4
}
